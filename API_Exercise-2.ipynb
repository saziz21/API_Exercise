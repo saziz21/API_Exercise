{
 "cells": [
  {
   "cell_type": "code",
   "execution_count": 1,
   "metadata": {},
   "outputs": [],
   "source": [
    "import requests\n",
    "import urllib.request\n",
    "import pandas as pd\n",
    "import time\n",
    "import os\n",
    "from requests_oauthlib import OAuth1"
   ]
  },
  {
   "cell_type": "code",
   "execution_count": 2,
   "metadata": {},
   "outputs": [],
   "source": [
    "API_key = os.getenv('API_key')"
   ]
  },
  {
   "cell_type": "code",
   "execution_count": 3,
   "metadata": {},
   "outputs": [],
   "source": [
    "HOST = \"https://api.census.gov/data\"\n",
    "time = \"2018\"\n",
    "dataset = \"timeseries/poverty/saipe\"\n",
    "base_url = \"/\".join([HOST, dataset])\n",
    "\n",
    "get_vars = [\"SAEMHI_PT\", \"SAEPOV0_17_PT\", \"SAEPOVALL_PT\"]\n",
    "predicates = {}\n",
    "predicates[\"get\"] = \",\".join(get_vars)\n",
    "predicates[\"for\"] = \"county:201\"\n",
    "predicates[\"in\"] = \"state:48\"\n",
    "predicates[\"time\"] = \"2018\"\n",
    "\n",
    "auth = OAuth1('API_key')\n",
    "\n",
    "r = requests.get(base_url, params=predicates, auth=auth)"
   ]
  },
  {
   "cell_type": "code",
   "execution_count": 4,
   "metadata": {},
   "outputs": [
    {
     "name": "stdout",
     "output_type": "stream",
     "text": [
      "[[\"SAEMHI_PT\",\"SAEPOV0_17_PT\",\"SAEPOVALL_PT\",\"time\",\"state\",\"county\"],\n",
      "[\"60241\",\"306893\",\"767367\",\"2018\",\"48\",\"201\"]]\n"
     ]
    }
   ],
   "source": [
    "print(r.text)"
   ]
  },
  {
   "cell_type": "code",
   "execution_count": 5,
   "metadata": {},
   "outputs": [],
   "source": [
    "col_names = [\"median_household_income\", \"under_18_in_poverty\", \"all_ages_in_Poverty\", \"year\", \"state\", \"county\"]"
   ]
  },
  {
   "cell_type": "code",
   "execution_count": 6,
   "metadata": {},
   "outputs": [],
   "source": [
    "df = pd.DataFrame(columns = col_names, data = r.json()[1:])"
   ]
  },
  {
   "cell_type": "code",
   "execution_count": 7,
   "metadata": {},
   "outputs": [
    {
     "name": "stdout",
     "output_type": "stream",
     "text": [
      "  median_household_income under_18_in_poverty all_ages_in_Poverty  year state  \\\n",
      "0                   60241              306893              767367  2018    48   \n",
      "\n",
      "  county  \n",
      "0    201  \n"
     ]
    }
   ],
   "source": [
    "print(df.head())"
   ]
  },
  {
   "cell_type": "code",
   "execution_count": 8,
   "metadata": {},
   "outputs": [
    {
     "name": "stdout",
     "output_type": "stream",
     "text": [
      "[['SAEMHI_PT', 'SAEPOV0_17_PT', 'SAEPOVALL_PT', 'time', 'state', 'county'], ['60241', '306893', '767367', '2018', '48', '201']]\n"
     ]
    }
   ],
   "source": [
    "print(r.json())"
   ]
  },
  {
   "cell_type": "code",
   "execution_count": 9,
   "metadata": {},
   "outputs": [],
   "source": [
    "import csv\n",
    "f = open(\"pov.csv\", \"a\", newline=\"\")\n",
    "writer = csv.writer(f)\n",
    "writer.writerow(df)\n",
    "f.close()"
   ]
  },
  {
   "cell_type": "code",
   "execution_count": 10,
   "metadata": {},
   "outputs": [
    {
     "data": {
      "text/html": [
       "<div>\n",
       "<style scoped>\n",
       "    .dataframe tbody tr th:only-of-type {\n",
       "        vertical-align: middle;\n",
       "    }\n",
       "\n",
       "    .dataframe tbody tr th {\n",
       "        vertical-align: top;\n",
       "    }\n",
       "\n",
       "    .dataframe thead th {\n",
       "        text-align: right;\n",
       "    }\n",
       "</style>\n",
       "<table border=\"1\" class=\"dataframe\">\n",
       "  <thead>\n",
       "    <tr style=\"text-align: right;\">\n",
       "      <th></th>\n",
       "      <th>median_household_income</th>\n",
       "      <th>under_18_in_poverty</th>\n",
       "      <th>all_ages_in_Poverty</th>\n",
       "      <th>year</th>\n",
       "      <th>state</th>\n",
       "      <th>county</th>\n",
       "    </tr>\n",
       "  </thead>\n",
       "  <tbody>\n",
       "    <tr>\n",
       "      <th>0</th>\n",
       "      <td>60241</td>\n",
       "      <td>306893</td>\n",
       "      <td>767367</td>\n",
       "      <td>2018</td>\n",
       "      <td>48</td>\n",
       "      <td>201</td>\n",
       "    </tr>\n",
       "  </tbody>\n",
       "</table>\n",
       "</div>"
      ],
      "text/plain": [
       "   median_household_income  under_18_in_poverty  all_ages_in_Poverty  year  \\\n",
       "0                    60241               306893               767367  2018   \n",
       "\n",
       "   state  county  \n",
       "0     48     201  "
      ]
     },
     "execution_count": 10,
     "metadata": {},
     "output_type": "execute_result"
    }
   ],
   "source": [
    "df.to_csv(\"pov.csv\", index = False)\n",
    "pd.read_csv(\"pov.csv\")"
   ]
  }
 ],
 "metadata": {
  "kernelspec": {
   "display_name": "Python 3",
   "language": "python",
   "name": "python3"
  },
  "language_info": {
   "codemirror_mode": {
    "name": "ipython",
    "version": 3
   },
   "file_extension": ".py",
   "mimetype": "text/x-python",
   "name": "python",
   "nbconvert_exporter": "python",
   "pygments_lexer": "ipython3",
   "version": "3.8.3"
  }
 },
 "nbformat": 4,
 "nbformat_minor": 4
}
